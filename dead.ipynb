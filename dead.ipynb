{
 "cells": [
  {
   "cell_type": "markdown",
   "id": "129fd7bd",
   "metadata": {},
   "source": [
    "# 📘 Gaussian Splatting on Google Colab\n",
    "This notebook installs and runs the [official Gaussian Splatting repo](https://github.com/graphdeco-inria/gaussian-splatting) on Colab using the sample `truck` dataset."
   ]
  },
  {
   "cell_type": "code",
   "execution_count": null,
   "id": "d7e760a1",
   "metadata": {},
   "outputs": [],
   "source": [
    "# Step 1: Install system dependencies\n",
    "!apt-get update\n",
    "!apt-get install -y cmake build-essential libgl1-mesa-glx"
   ]
  },
  {
   "cell_type": "code",
   "execution_count": null,
   "id": "49cc8074",
   "metadata": {},
   "outputs": [],
   "source": [
    "# Step 2: Clone the official repo\n",
    "%cd /content\n",
    "!git clone --recursive https://github.com/graphdeco-inria/gaussian-splatting.git\n",
    "%cd gaussian-splatting"
   ]
  },
  {
   "cell_type": "code",
   "execution_count": null,
   "id": "3d2feba0",
   "metadata": {},
   "outputs": [],
   "source": [
    "# Step 3: Install Python packages\n",
    "!pip install -r requirements.txt"
   ]
  },
  {
   "cell_type": "code",
   "execution_count": null,
   "id": "1e397b6b",
   "metadata": {},
   "outputs": [],
   "source": [
    "# Step 4: Compile CUDA rasterizer\n",
    "%cd /content/gaussian-splatting/gaussian_renderer\n",
    "!cmake . && make"
   ]
  },
  {
   "cell_type": "code",
   "execution_count": null,
   "id": "a121304e",
   "metadata": {},
   "outputs": [],
   "source": [
    "# Step 5: Install the KNN utility\n",
    "%cd /content/gaussian-splatting/utils/simple_knn\n",
    "!python setup.py install"
   ]
  },
  {
   "cell_type": "code",
   "execution_count": null,
   "id": "a9bd5929",
   "metadata": {},
   "outputs": [],
   "source": [
    "# Step 6: Upload your custom dataset ZIP\n",
    "from google.colab import files\n",
    "%cd /content/gaussian-splatting\n",
    "\n",
    "uploaded = files.upload()  # Upload your_scene.zip manually\n",
    "\n",
    "!unzip -q your_scene.zip -d ./data"
   ]
  },
  {
   "cell_type": "code",
   "execution_count": null,
   "id": "fc27e2d3",
   "metadata": {},
   "outputs": [],
   "source": [
    "# Step 7: Run training\n",
    "!python train.py -s ./data/my_scene"
   ]
  },
  {
   "cell_type": "code",
   "execution_count": null,
   "id": "00049e94",
   "metadata": {},
   "outputs": [],
   "source": [
    "# Step 8: Render trained model to images\n",
    "!python render.py -m ./output/my_scene"
   ]
  },
  {
   "cell_type": "code",
   "execution_count": null,
   "id": "73d51b09",
   "metadata": {},
   "outputs": [],
   "source": [
    "# Step 9: Make MP4 video from renders\n",
    "!ffmpeg -framerate 24 -i ./output/my_scene/renders/%05d.png -c:v libx264 -pix_fmt yuv420p output.mp4"
   ]
  }
 ],
 "metadata": {
  "language_info": {
   "name": "python"
  }
 },
 "nbformat": 4,
 "nbformat_minor": 5
}
