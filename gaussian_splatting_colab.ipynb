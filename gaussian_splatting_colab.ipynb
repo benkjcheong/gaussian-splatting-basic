{
  "cells": [
    {
      "cell_type": "code",
      "execution_count": 1,
      "id": "lxVPhjZpZp6z",
      "metadata": {
        "colab": {
          "base_uri": "https://localhost:8080/"
        },
        "id": "lxVPhjZpZp6z",
        "outputId": "1853387b-ba98-4bd6-99a1-b82acbe6d874"
      },
      "outputs": [
        {
          "output_type": "stream",
          "name": "stdout",
          "text": [
            "--2025-07-01 12:04:11--  https://repo.anaconda.com/miniconda/Miniconda3-py37_23.1.0-1-Linux-x86_64.sh\n",
            "Resolving repo.anaconda.com (repo.anaconda.com)... 104.16.32.241, 104.16.191.158, 2606:4700::6810:20f1, ...\n",
            "Connecting to repo.anaconda.com (repo.anaconda.com)|104.16.32.241|:443... connected.\n",
            "HTTP request sent, awaiting response... 200 OK\n",
            "Length: 90665082 (86M) [application/x-sh]\n",
            "Saving to: ‘mini.sh’\n",
            "\n",
            "mini.sh             100%[===================>]  86.46M   138MB/s    in 0.6s    \n",
            "\n",
            "2025-07-01 12:04:12 (138 MB/s) - ‘mini.sh’ saved [90665082/90665082]\n",
            "\n",
            "PREFIX=/usr/local\n",
            "Unpacking payload ...\n",
            "                                                                                             \n",
            "Installing base environment...\n",
            "\n",
            "\n",
            "Downloading and Extracting Packages\n",
            "\n",
            "\n",
            "Downloading and Extracting Packages\n",
            "\n",
            "Preparing transaction: - \b\bdone\n",
            "Executing transaction: | \b\b/ \b\bdone\n",
            "installation finished.\n",
            "WARNING:\n",
            "    You currently have a PYTHONPATH environment variable set. This may cause\n",
            "    unexpected behavior when running the Python interpreter in Miniconda3.\n",
            "    For best results, please verify that your PYTHONPATH only points to\n",
            "    directories of packages that are compatible with the Python interpreter\n",
            "    in Miniconda3: /usr/local\n",
            "Collecting package metadata (current_repodata.json): ...working... done\n",
            "Solving environment: ...working... done\n",
            "\n",
            "## Package Plan ##\n",
            "\n",
            "  environment location: /usr/local\n",
            "\n",
            "  added / updated specs:\n",
            "    - python=3.7\n",
            "\n",
            "\n",
            "The following packages will be UPDATED:\n",
            "\n",
            "  ca-certificates                     2023.01.10-h06a4308_0 --> 2025.2.25-h06a4308_0 \n",
            "  openssl                                 1.1.1s-h7f8727e_0 --> 1.1.1w-h7f8727e_0 \n",
            "\n",
            "\n",
            "Preparing transaction: ...working... done\n",
            "Verifying transaction: ...working... done\n",
            "Executing transaction: ...working... done\n",
            "Python 3.7.16\n"
          ]
        }
      ],
      "source": [
        "!wget -O mini.sh https://repo.anaconda.com/miniconda/Miniconda3-py37_23.1.0-1-Linux-x86_64.sh\n",
        "!chmod +x mini.sh\n",
        "!bash ./mini.sh -b -f -p /usr/local\n",
        "!conda install -q -y python=3.7\n",
        "import sys\n",
        "sys.path.append('/usr/local/lib/python3.7/site-packages')\n",
        "!python --version  # Should say Python 3.7.x"
      ]
    },
    {
      "cell_type": "code",
      "execution_count": 13,
      "id": "k0zlHzjRfMve",
      "metadata": {
        "colab": {
          "base_uri": "https://localhost:8080/"
        },
        "id": "k0zlHzjRfMve",
        "outputId": "c3672eb9-becd-4bfe-dfbd-a0be564f0f47"
      },
      "outputs": [
        {
          "output_type": "stream",
          "name": "stdout",
          "text": [
            "--2025-07-01 12:16:10--  https://developer.download.nvidia.com/compute/cuda/11.8.0/local_installers/cuda_11.8.0_520.61.05_linux.run\n",
            "Resolving developer.download.nvidia.com (developer.download.nvidia.com)... 23.199.47.84\n",
            "Connecting to developer.download.nvidia.com (developer.download.nvidia.com)|23.199.47.84|:443... connected.\n",
            "HTTP request sent, awaiting response... 200 OK\n",
            "Length: 4336730777 (4.0G) [application/octet-stream]\n",
            "Saving to: ‘cuda_11.8.0_520.61.05_linux.run’\n",
            "\n",
            "cuda_11.8.0_520.61. 100%[===================>]   4.04G  25.9MB/s    in 3m 17s  \n",
            "\n",
            "2025-07-01 12:19:27 (21.0 MB/s) - ‘cuda_11.8.0_520.61.05_linux.run’ saved [4336730777/4336730777]\n",
            "\n",
            "nvcc: NVIDIA (R) Cuda compiler driver\n",
            "Copyright (c) 2005-2022 NVIDIA Corporation\n",
            "Built on Wed_Sep_21_10:33:58_PDT_2022\n",
            "Cuda compilation tools, release 11.8, V11.8.89\n",
            "Build cuda_11.8.r11.8/compiler.31833905_0\n"
          ]
        }
      ],
      "source": [
        "!wget https://developer.download.nvidia.com/compute/cuda/11.8.0/local_installers/cuda_11.8.0_520.61.05_linux.run\n",
        "!chmod +x cuda_11.8.0_520.61.05_linux.run\n",
        "!./cuda_11.8.0_520.61.05_linux.run --silent --toolkit --no-drm --no-man-page\n",
        "import os\n",
        "os.environ['PATH'] += ':/usr/local/cuda-11.8/bin'\n",
        "os.environ['LD_LIBRARY_PATH'] = '/usr/local/cuda-11.8/lib64:/usr/lib64-nvidia'\n",
        "!nvcc --version  # Should show CUDA 11.8"
      ]
    },
    {
      "cell_type": "code",
      "execution_count": 3,
      "id": "_DL0YUecfN4k",
      "metadata": {
        "colab": {
          "base_uri": "https://localhost:8080/"
        },
        "id": "_DL0YUecfN4k",
        "outputId": "ba0a6c74-6e4a-4bf8-d79f-b18e498ae0aa"
      },
      "outputs": [
        {
          "output_type": "stream",
          "name": "stdout",
          "text": [
            "Found existing installation: torch 1.12.1+cu116\n",
            "Uninstalling torch-1.12.1+cu116:\n",
            "  Successfully uninstalled torch-1.12.1+cu116\n",
            "Found existing installation: torchvision 0.13.1+cu116\n",
            "Uninstalling torchvision-0.13.1+cu116:\n",
            "  Successfully uninstalled torchvision-0.13.1+cu116\n",
            "Found existing installation: torchaudio 0.12.1+cu116\n",
            "Uninstalling torchaudio-0.12.1+cu116:\n",
            "  Successfully uninstalled torchaudio-0.12.1+cu116\n",
            "Looking in indexes: https://pypi.org/simple, https://download.pytorch.org/whl/cu116\n",
            "Collecting torch==1.12.1+cu116\n",
            "  Using cached https://download.pytorch.org/whl/cu116/torch-1.12.1%2Bcu116-cp37-cp37m-linux_x86_64.whl (1904.8 MB)\n",
            "Collecting torchvision==0.13.1+cu116\n",
            "  Using cached https://download.pytorch.org/whl/cu116/torchvision-0.13.1%2Bcu116-cp37-cp37m-linux_x86_64.whl (23.5 MB)\n",
            "Collecting torchaudio==0.12.1\n",
            "  Using cached https://download.pytorch.org/whl/cu116/torchaudio-0.12.1%2Bcu116-cp37-cp37m-linux_x86_64.whl (3.8 MB)\n",
            "Requirement already satisfied: typing-extensions in /usr/local/lib/python3.7/site-packages (from torch==1.12.1+cu116) (4.4.0)\n",
            "Requirement already satisfied: requests in /usr/local/lib/python3.7/site-packages (from torchvision==0.13.1+cu116) (2.28.1)\n",
            "Requirement already satisfied: pillow!=8.3.*,>=5.3.0 in /usr/local/lib/python3.7/site-packages (from torchvision==0.13.1+cu116) (9.5.0)\n",
            "Requirement already satisfied: numpy in /usr/local/lib/python3.7/site-packages (from torchvision==0.13.1+cu116) (1.21.6)\n",
            "Requirement already satisfied: idna<4,>=2.5 in /usr/local/lib/python3.7/site-packages (from requests->torchvision==0.13.1+cu116) (3.4)\n",
            "Requirement already satisfied: urllib3<1.27,>=1.21.1 in /usr/local/lib/python3.7/site-packages (from requests->torchvision==0.13.1+cu116) (1.26.14)\n",
            "Requirement already satisfied: charset-normalizer<3,>=2 in /usr/local/lib/python3.7/site-packages (from requests->torchvision==0.13.1+cu116) (2.0.4)\n",
            "Requirement already satisfied: certifi>=2017.4.17 in /usr/local/lib/python3.7/site-packages (from requests->torchvision==0.13.1+cu116) (2022.12.7)\n",
            "Installing collected packages: torch, torchvision, torchaudio\n",
            "Successfully installed torch-1.12.1+cu116 torchaudio-0.12.1+cu116 torchvision-0.13.1+cu116\n"
          ]
        }
      ],
      "source": [
        "!pip uninstall torch torchvision torchaudio -y\n",
        "!pip install torch==1.12.1+cu116 torchvision==0.13.1+cu116 torchaudio==0.12.1 --extra-index-url https://download.pytorch.org/whl/cu116"
      ]
    },
    {
      "cell_type": "code",
      "execution_count": 4,
      "id": "OVbaEpKYfQpU",
      "metadata": {
        "colab": {
          "base_uri": "https://localhost:8080/"
        },
        "id": "OVbaEpKYfQpU",
        "outputId": "052bdedb-7a0b-453f-aec0-9164438f71b8"
      },
      "outputs": [
        {
          "output_type": "stream",
          "name": "stdout",
          "text": [
            "True\n",
            "12.4\n",
            "Tesla T4\n"
          ]
        }
      ],
      "source": [
        "import torch\n",
        "print(torch.cuda.is_available())  # Should be True\n",
        "print(torch.version.cuda)        # Should be 11.3 (from PyTorch)\n",
        "print(torch.cuda.get_device_name(0))  # Should show GPU"
      ]
    },
    {
      "cell_type": "code",
      "execution_count": 5,
      "id": "uq4PRTgGfSM4",
      "metadata": {
        "colab": {
          "base_uri": "https://localhost:8080/"
        },
        "id": "uq4PRTgGfSM4",
        "outputId": "35ce7e20-ec56-4bfd-f06e-be455467331a"
      },
      "outputs": [
        {
          "output_type": "stream",
          "name": "stdout",
          "text": [
            "Tue Jul  1 12:08:00 2025       \n",
            "+-----------------------------------------------------------------------------------------+\n",
            "| NVIDIA-SMI 550.54.15              Driver Version: 550.54.15      CUDA Version: 12.4     |\n",
            "|-----------------------------------------+------------------------+----------------------+\n",
            "| GPU  Name                 Persistence-M | Bus-Id          Disp.A | Volatile Uncorr. ECC |\n",
            "| Fan  Temp   Perf          Pwr:Usage/Cap |           Memory-Usage | GPU-Util  Compute M. |\n",
            "|                                         |                        |               MIG M. |\n",
            "|=========================================+========================+======================|\n",
            "|   0  Tesla T4                       Off |   00000000:00:04.0 Off |                    0 |\n",
            "| N/A   40C    P8             10W /   70W |       2MiB /  15360MiB |      0%      Default |\n",
            "|                                         |                        |                  N/A |\n",
            "+-----------------------------------------+------------------------+----------------------+\n",
            "                                                                                         \n",
            "+-----------------------------------------------------------------------------------------+\n",
            "| Processes:                                                                              |\n",
            "|  GPU   GI   CI        PID   Type   Process name                              GPU Memory |\n",
            "|        ID   ID                                                               Usage      |\n",
            "|=========================================================================================|\n",
            "|  No running processes found                                                             |\n",
            "+-----------------------------------------------------------------------------------------+\n"
          ]
        }
      ],
      "source": [
        "!nvidia-smi"
      ]
    },
    {
      "cell_type": "code",
      "source": [
        "%cd /content\n",
        "!rm -rf gaussian-splatting\n"
      ],
      "metadata": {
        "colab": {
          "base_uri": "https://localhost:8080/"
        },
        "id": "MPwKbkP95AVB",
        "outputId": "1003ed64-c59a-4480-dbf3-006356eec6c8"
      },
      "id": "MPwKbkP95AVB",
      "execution_count": 11,
      "outputs": [
        {
          "output_type": "stream",
          "name": "stdout",
          "text": [
            "/content\n"
          ]
        }
      ]
    },
    {
      "cell_type": "code",
      "execution_count": 14,
      "id": "cqEmhs1ufTkX",
      "metadata": {
        "colab": {
          "base_uri": "https://localhost:8080/"
        },
        "id": "cqEmhs1ufTkX",
        "outputId": "704c6439-9069-41a9-af14-474f571fc767"
      },
      "outputs": [
        {
          "output_type": "stream",
          "name": "stdout",
          "text": [
            "/content\n",
            "fatal: destination path 'gaussian-splatting' already exists and is not an empty directory.\n",
            "/content/gaussian-splatting\n",
            "  Preparing metadata (setup.py) ... \u001b[?25l\u001b[?25hdone\n",
            "  Building wheel for diff-gaussian-rasterization (setup.py) ... \u001b[?25l\u001b[?25hdone\n",
            "  Preparing metadata (setup.py) ... \u001b[?25l\u001b[?25hdone\n",
            "  Building wheel for simple-knn (setup.py) ... \u001b[?25l\u001b[?25hdone\n"
          ]
        }
      ],
      "source": [
        "%cd /content\n",
        "!git clone --recursive https://github.com/camenduru/gaussian-splatting\n",
        "!pip install -q plyfile\n",
        "\n",
        "%cd /content/gaussian-splatting\n",
        "!pip install -q /content/gaussian-splatting/submodules/diff-gaussian-rasterization\n",
        "!pip install -q /content/gaussian-splatting/submodules/simple-knn\n"
      ]
    },
    {
      "cell_type": "code",
      "execution_count": 21,
      "id": "-ry5cwy3aZlL",
      "metadata": {
        "id": "-ry5cwy3aZlL",
        "colab": {
          "base_uri": "https://localhost:8080/"
        },
        "outputId": "49e59407-9369-4e9c-c0c1-f27f09d48278"
      },
      "outputs": [
        {
          "output_type": "stream",
          "name": "stdout",
          "text": [
            "Drive already mounted at /content/drive; to attempt to forcibly remount, call drive.mount(\"/content/drive\", force_remount=True).\n",
            "/content/gaussian-splatting\n"
          ]
        }
      ],
      "source": [
        "from google.colab import drive\n",
        "import os\n",
        "\n",
        "drive.mount('/content/drive')\n",
        "zip_path = '/content/drive/MyDrive/output.zip' #Needs sparse + images\n",
        "%cd /content/gaussian-splatting\n",
        "!unzip -q \"$zip_path\" -d ./data"
      ]
    },
    {
      "cell_type": "code",
      "source": [
        "!ls -R ./data/output\n",
        "\n",
        "\n"
      ],
      "metadata": {
        "colab": {
          "base_uri": "https://localhost:8080/"
        },
        "id": "Zz6zhmpF9hkH",
        "outputId": "95e7c4e8-0b94-43ec-9dae-988fa3807a05"
      },
      "id": "Zz6zhmpF9hkH",
      "execution_count": 32,
      "outputs": [
        {
          "output_type": "stream",
          "name": "stdout",
          "text": [
            "./data/output:\n",
            "database.db  images  sparse\n",
            "\n",
            "./data/output/images:\n",
            "00000.png  00022.png  00044.png  00066.png  00088.png  00110.png  00132.png\n",
            "00001.png  00023.png  00045.png  00067.png  00089.png  00111.png  00133.png\n",
            "00002.png  00024.png  00046.png  00068.png  00090.png  00112.png  00134.png\n",
            "00003.png  00025.png  00047.png  00069.png  00091.png  00113.png  00135.png\n",
            "00004.png  00026.png  00048.png  00070.png  00092.png  00114.png  00136.png\n",
            "00005.png  00027.png  00049.png  00071.png  00093.png  00115.png  00137.png\n",
            "00006.png  00028.png  00050.png  00072.png  00094.png  00116.png  00138.png\n",
            "00007.png  00029.png  00051.png  00073.png  00095.png  00117.png  00139.png\n",
            "00008.png  00030.png  00052.png  00074.png  00096.png  00118.png  00140.png\n",
            "00009.png  00031.png  00053.png  00075.png  00097.png  00119.png  00141.png\n",
            "00010.png  00032.png  00054.png  00076.png  00098.png  00120.png  00142.png\n",
            "00011.png  00033.png  00055.png  00077.png  00099.png  00121.png  00143.png\n",
            "00012.png  00034.png  00056.png  00078.png  00100.png  00122.png  00144.png\n",
            "00013.png  00035.png  00057.png  00079.png  00101.png  00123.png  00145.png\n",
            "00014.png  00036.png  00058.png  00080.png  00102.png  00124.png  00146.png\n",
            "00015.png  00037.png  00059.png  00081.png  00103.png  00125.png  00147.png\n",
            "00016.png  00038.png  00060.png  00082.png  00104.png  00126.png  00148.png\n",
            "00017.png  00039.png  00061.png  00083.png  00105.png  00127.png  00149.png\n",
            "00018.png  00040.png  00062.png  00084.png  00106.png  00128.png\n",
            "00019.png  00041.png  00063.png  00085.png  00107.png  00129.png\n",
            "00020.png  00042.png  00064.png  00086.png  00108.png  00130.png\n",
            "00021.png  00043.png  00065.png  00087.png  00109.png  00131.png\n",
            "\n",
            "./data/output/sparse:\n",
            "0\n",
            "\n",
            "./data/output/sparse/0:\n",
            "cameras.bin  images.bin  points3D.bin  project.ini\n"
          ]
        }
      ]
    },
    {
      "cell_type": "code",
      "execution_count": 35,
      "id": "7hA8a_2GaCaO",
      "metadata": {
        "id": "7hA8a_2GaCaO",
        "colab": {
          "base_uri": "https://localhost:8080/"
        },
        "outputId": "f809b771-7aa5-4c4c-bbe1-dacb010ff002"
      },
      "outputs": [
        {
          "output_type": "stream",
          "name": "stdout",
          "text": [
            "Optimizing \n",
            "Output folder: ./output/3613a7ff-c [01/07 12:57:05]\n",
            "Tensorboard not available: not logging progress [01/07 12:57:05]\n",
            "Reading camera 150/150 [01/07 12:57:06]\n",
            "Converting point3d.bin to .ply, will happen only the first time you open the scene. [01/07 12:57:06]\n",
            "Loading Training Cameras [01/07 12:57:06]\n",
            "[ INFO ] Encountered quite large input images (>1.6K pixels width), rescaling to 1.6K.\n",
            " If this is not desired, please explicitly specify '--resolution/-r' as 1 [01/07 12:57:06]\n",
            "Loading Test Cameras [01/07 12:57:34]\n",
            "Number of points at initialisation :  20008 [01/07 12:57:34]\n",
            "Training progress:  23% 7000/30000 [09:27<31:59, 11.98it/s, Loss=0.0143558]\n",
            "[ITER 7000] Evaluating train: L1 0.011019055824726821 PSNR 29.00271987915039 [01/07 13:07:02]\n",
            "\n",
            "[ITER 7000] Saving Gaussians [01/07 13:07:02]\n",
            "Training progress: 100% 30000/30000 [43:39<00:00, 11.45it/s, Loss=0.0131209]\n",
            "\n",
            "[ITER 30000] Evaluating train: L1 0.00808599004521966 PSNR 29.94560890197754 [01/07 13:41:14]\n",
            "\n",
            "[ITER 30000] Saving Gaussians [01/07 13:41:14]\n",
            "\n",
            "Training complete. [01/07 13:41:16]\n"
          ]
        }
      ],
      "source": [
        "!python train.py -s ./data/output #Specify where the output should be placed\n",
        "\n",
        "# !wget https://huggingface.co/camenduru/gaussian-splatting/resolve/main/GaussianViewTest.zip\n",
        "# !unzip GaussianViewTest.zip\n",
        "# !python render.py -m /content/gaussian-splatting/GaussianViewTest/model\n",
        "# !ffmpeg -framerate 3 -i /content/gaussian-splatting/GaussianViewTest/model/train/ours_30000/renders/%05d.png -vf \"pad=ceil(iw/2)*2:ceil(ih/2)*2\" -c:v libx264 -r 3 -pix_fmt yuv420p /content/renders.mp4\n",
        "# !ffmpeg -framerate 3 -i /content/gaussian-splatting/GaussianViewTest/model/train/ours_30000/gt/%05d.png -vf \"pad=ceil(iw/2)*2:ceil(ih/2)*2\" -c:v libx264 -r 3 -pix_fmt yuv420p /content/gt.mp4 -y"
      ]
    },
    {
      "cell_type": "code",
      "source": [
        "!ls /content/gaussian-splatting/output/3613a7ff-c"
      ],
      "metadata": {
        "colab": {
          "base_uri": "https://localhost:8080/"
        },
        "id": "u5DFAWu4OWS6",
        "outputId": "e542d933-df75-46e5-96f8-a964e1b55ce6"
      },
      "id": "u5DFAWu4OWS6",
      "execution_count": 51,
      "outputs": [
        {
          "output_type": "stream",
          "name": "stdout",
          "text": [
            "cameras.json  cfg_args\tinput.ply  point_cloud\n"
          ]
        }
      ]
    },
    {
      "cell_type": "code",
      "execution_count": 48,
      "id": "00049e94",
      "metadata": {
        "id": "00049e94",
        "colab": {
          "base_uri": "https://localhost:8080/",
          "height": 170
        },
        "outputId": "2e4edf98-fd07-4ba4-9949-5d53cfbf533e"
      },
      "outputs": [
        {
          "output_type": "stream",
          "name": "stdout",
          "text": [
            "  adding: content/gaussian-splatting/output/3613a7ff-c/ (stored 0%)\n",
            "  adding: content/gaussian-splatting/output/3613a7ff-c/point_cloud/ (stored 0%)\n",
            "  adding: content/gaussian-splatting/output/3613a7ff-c/point_cloud/iteration_7000/ (stored 0%)\n",
            "  adding: content/gaussian-splatting/output/3613a7ff-c/point_cloud/iteration_7000/point_cloud.ply (deflated 21%)\n",
            "  adding: content/gaussian-splatting/output/3613a7ff-c/point_cloud/iteration_30000/ (stored 0%)\n",
            "  adding: content/gaussian-splatting/output/3613a7ff-c/point_cloud/iteration_30000/point_cloud.ply (deflated 19%)\n",
            "  adding: content/gaussian-splatting/output/3613a7ff-c/input.ply (deflated 45%)\n",
            "  adding: content/gaussian-splatting/output/3613a7ff-c/cameras.json (deflated 68%)\n",
            "  adding: content/gaussian-splatting/output/3613a7ff-c/cfg_args (deflated 24%)\n"
          ]
        },
        {
          "output_type": "display_data",
          "data": {
            "text/plain": [
              "<IPython.core.display.Javascript object>"
            ],
            "application/javascript": [
              "\n",
              "    async function download(id, filename, size) {\n",
              "      if (!google.colab.kernel.accessAllowed) {\n",
              "        return;\n",
              "      }\n",
              "      const div = document.createElement('div');\n",
              "      const label = document.createElement('label');\n",
              "      label.textContent = `Downloading \"${filename}\": `;\n",
              "      div.appendChild(label);\n",
              "      const progress = document.createElement('progress');\n",
              "      progress.max = size;\n",
              "      div.appendChild(progress);\n",
              "      document.body.appendChild(div);\n",
              "\n",
              "      const buffers = [];\n",
              "      let downloaded = 0;\n",
              "\n",
              "      const channel = await google.colab.kernel.comms.open(id);\n",
              "      // Send a message to notify the kernel that we're ready.\n",
              "      channel.send({})\n",
              "\n",
              "      for await (const message of channel.messages) {\n",
              "        // Send a message to notify the kernel that we're ready.\n",
              "        channel.send({})\n",
              "        if (message.buffers) {\n",
              "          for (const buffer of message.buffers) {\n",
              "            buffers.push(buffer);\n",
              "            downloaded += buffer.byteLength;\n",
              "            progress.value = downloaded;\n",
              "          }\n",
              "        }\n",
              "      }\n",
              "      const blob = new Blob(buffers, {type: 'application/binary'});\n",
              "      const a = document.createElement('a');\n",
              "      a.href = window.URL.createObjectURL(blob);\n",
              "      a.download = filename;\n",
              "      div.appendChild(a);\n",
              "      a.click();\n",
              "      div.remove();\n",
              "    }\n",
              "  "
            ]
          },
          "metadata": {}
        },
        {
          "output_type": "display_data",
          "data": {
            "text/plain": [
              "<IPython.core.display.Javascript object>"
            ],
            "application/javascript": [
              "download(\"download_bc875416-1f54-45e6-a9eb-c6512ba0a811\", \"3613a7ff-c.zip\", 78822214)"
            ]
          },
          "metadata": {}
        }
      ],
      "source": [
        "# Step 8: Render trained model to three.js\n",
        "!zip -r /content/3613a7ff-c.zip /content/gaussian-splatting/output/3613a7ff-c\n",
        "from google.colab import files\n",
        "files.download('/content/3613a7ff-c.zip')"
      ]
    }
  ],
  "metadata": {
    "accelerator": "GPU",
    "colab": {
      "gpuType": "T4",
      "provenance": []
    },
    "kernelspec": {
      "display_name": "Python 3",
      "name": "python3"
    },
    "language_info": {
      "name": "python"
    }
  },
  "nbformat": 4,
  "nbformat_minor": 5
}