{
 "cells": [
  {
   "cell_type": "markdown",
   "id": "d4bb2dd2",
   "metadata": {},
   "source": []
  },
  {
   "cell_type": "code",
   "execution_count": null,
   "id": "99debf04",
   "metadata": {},
   "outputs": [],
   "source": [
    "%cd /content\n",
    "!git clone --recursive https://github.com/camenduru/gaussian-splatting\n",
    "!pip install -q plyfile\n",
    "\n",
    "%cd /content/gaussian-splatting\n",
    "!pip install -q /content/gaussian-splatting/submodules/diff-gaussian-rasterization\n",
    "!pip install -q /content/gaussian-splatting/submodules/simple-knn"
   ]
  },
  {
   "cell_type": "code",
   "execution_count": null,
   "id": "1e7f6a07",
   "metadata": {},
   "outputs": [],
   "source": [
    "from google.colab import drive\n",
    "import os\n",
    "\n",
    "drive.mount('/content/drive')\n",
    "zip_path = '/content/drive/MyDrive/IMG_5988.zip'\n",
    "%cd /content/gaussian-splatting\n",
    "!unzip -q \"$zip_path\" -d ./data"
   ]
  },
  {
   "cell_type": "code",
   "execution_count": null,
   "id": "eb09310c",
   "metadata": {},
   "outputs": [],
   "source": [
    "!python train.py -s ./data/IMG_5988\n",
    "\n",
    "# !wget https://huggingface.co/camenduru/gaussian-splatting/resolve/main/GaussianViewTest.zip\n",
    "# !unzip GaussianViewTest.zip\n",
    "# !python render.py -m /content/gaussian-splatting/GaussianViewTest/model\n",
    "# !ffmpeg -framerate 3 -i /content/gaussian-splatting/GaussianViewTest/model/train/ours_30000/renders/%05d.png -vf \"pad=ceil(iw/2)*2:ceil(ih/2)*2\" -c:v libx264 -r 3 -pix_fmt yuv420p /content/renders.mp4\n",
    "# !ffmpeg -framerate 3 -i /content/gaussian-splatting/GaussianViewTest/model/train/ours_30000/gt/%05d.png -vf \"pad=ceil(iw/2)*2:ceil(ih/2)*2\" -c:v libx264 -r 3 -pix_fmt yuv420p /content/gt.mp4 -y"
   ]
  },
  {
   "cell_type": "code",
   "execution_count": null,
   "id": "f3065e22",
   "metadata": {},
   "outputs": [],
   "source": []
  },
  {
   "cell_type": "code",
   "execution_count": null,
   "id": "39de8823",
   "metadata": {},
   "outputs": [],
   "source": []
  },
  {
   "cell_type": "code",
   "execution_count": null,
   "id": "c6586268",
   "metadata": {},
   "outputs": [],
   "source": []
  },
  {
   "cell_type": "code",
   "execution_count": null,
   "id": "a4304a13",
   "metadata": {},
   "outputs": [],
   "source": []
  },
  {
   "cell_type": "code",
   "execution_count": null,
   "id": "bf2501df",
   "metadata": {},
   "outputs": [],
   "source": []
  },
  {
   "cell_type": "code",
   "execution_count": null,
   "id": "21b18c03",
   "metadata": {},
   "outputs": [],
   "source": []
  }
 ],
 "metadata": {
  "language_info": {
   "name": "python"
  }
 },
 "nbformat": 4,
 "nbformat_minor": 5
}
